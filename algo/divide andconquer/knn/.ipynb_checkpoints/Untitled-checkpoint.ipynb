{
 "cells": [
  {
   "cell_type": "code",
   "execution_count": null,
   "metadata": {},
   "outputs": [],
   "source": [
    "f = open('testdata.txt', 'w')\n",
    "\n",
    "import random\n",
    "ncls = 20\n",
    "n = 1000000\n",
    "vl = 20\n",
    "f.write('%d %d\\n'%(n, vl))\n",
    "for i in xrange(n):\n",
    "    for j in xrange(vl):\n",
    "        f.write(str(random.uniform(0, 1000)))\n",
    "        f.write(' ')\n",
    "    f.write(str(random.randint(1, ncls)))\n",
    "    f.write('\\n')\n",
    "    \n",
    "f.write('10\\n')\n",
    "\n",
    "for i in xrange(10):\n",
    "    for j in xrange(vl):\n",
    "        f.write(str(random.uniform(0, 1000)))\n",
    "        f.write(' ')\n",
    "    f.write('\\n')\n",
    "    \n",
    "f.close()"
   ]
  },
  {
   "cell_type": "code",
   "execution_count": null,
   "metadata": {},
   "outputs": [],
   "source": []
  }
 ],
 "metadata": {
  "kernelspec": {
   "display_name": "Python 2",
   "language": "python",
   "name": "python2"
  },
  "language_info": {
   "codemirror_mode": {
    "name": "ipython",
    "version": 2
   },
   "file_extension": ".py",
   "mimetype": "text/x-python",
   "name": "python",
   "nbconvert_exporter": "python",
   "pygments_lexer": "ipython2",
   "version": "2.7.13"
  }
 },
 "nbformat": 4,
 "nbformat_minor": 2
}
